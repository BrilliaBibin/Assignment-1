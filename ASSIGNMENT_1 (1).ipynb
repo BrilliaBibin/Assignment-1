{
  "nbformat": 4,
  "nbformat_minor": 0,
  "metadata": {
    "colab": {
      "provenance": [],
      "collapsed_sections": []
    },
    "kernelspec": {
      "name": "python3",
      "display_name": "Python 3"
    },
    "language_info": {
      "name": "python"
    }
  },
  "cells": [
    {
      "cell_type": "markdown",
      "source": [
        "1. In the below elements which of them are values or an expression? eg:- values can be\n",
        "integer or string and expressions will be mathematical operators.\n",
        "*\n",
        "'hello'\n",
        "-87.8\n",
        "-\n",
        "/\n",
        "+\n",
        "6\n",
        "\n",
        "ANSWER\n",
        "\n",
        "*  \n",
        "  Expression - it is a mathematical operator.\n",
        "\n",
        "\"hello\"\n",
        "  Value - it is a string.\n",
        "\n",
        "-87.8\n",
        "  Integer float - it is a value.\n",
        "\n",
        "- \n",
        "  Expression - it is a mathematical operator.\n",
        "\n",
        "/\n",
        "  Expression - it is a mathematical operator.\n",
        "\n",
        "+\n",
        "  Expression - it is a mathematical operator.\n",
        "\n",
        "6\n",
        "  Value - it is an integer.\n"
      ],
      "metadata": {
        "id": "ojhkJqt3IABk"
      }
    },
    {
      "cell_type": "markdown",
      "source": [
        "2. What is the difference between string and variable?\n",
        "\n",
        "STRING:\n",
        "   String is defined as any value that can be alphabet or sequence of alphabet or numeric that can be written inside the single quotes''or double quotes\"\".\n",
        "\n",
        "   for example: name = \"Darren\" . 'Name' is variable which contain 'Darren' as a string.\n",
        "   \n",
        "VARIABLE:\n",
        "   A variable is any characteristics, number or quantity that can be measured or counted.\n",
        "\n",
        "   for example : vehicle_type = \"petrol\". vehicle_type is a variable name. \n",
        "\n"
      ],
      "metadata": {
        "id": "Ynocgc13VFne"
      }
    },
    {
      "cell_type": "markdown",
      "source": [
        "3. Describe three different data types.\n",
        "\n",
        "There are three different data types. They are \n",
        "       1. Integer\n",
        "       2. Float\n",
        "       3. Complex Numbers\n",
        "1. Integers:\n",
        "     The value is represented by int class. It contains positive or negative whole numbers(without fraction or decimal)\n",
        "\n",
        "Float:\n",
        "    The value is represented by float class.It is a real number with floating point representation.It is specified by a decimal point.\n",
        "\n",
        "Complex Numbers:\n",
        "    Complex number is represented by complex class.It is specified as (real part)+(imaginary part).for eg., 2+3j\n",
        "\n",
        "\n",
        "a = 5\n",
        "print(\"Type of a: \", type(a))\n",
        "  \n",
        "b = 5.0\n",
        "print(\"\\nType of b: \", type(b))\n",
        "  \n",
        "c = 2 + 4j\n",
        "print(\"\\nType of c: \", type(c))\n",
        "\n",
        "Output:\n",
        "\n",
        "Type of a:  <class 'int'>\n",
        "\n",
        "Type of b:  <class 'float'>\n",
        "\n",
        "Type of c:  <class 'complex'>"
      ],
      "metadata": {
        "id": "0_SZLryObGrd"
      }
    },
    {
      "cell_type": "code",
      "source": [
        "a = 5 \n",
        "print(\"type of a: \", type(a))\n",
        "\n",
        "b = 5.0 \n",
        "print(\"type of b: \", type(b))\n",
        "\n",
        "c = 2 + 4j \n",
        "print(\"type of c: \", type(c))"
      ],
      "metadata": {
        "colab": {
          "base_uri": "https://localhost:8080/"
        },
        "id": "cV7JTJSMoHXO",
        "outputId": "b3355517-8bb2-4b1d-921d-93e2dc0cfb48"
      },
      "execution_count": 10,
      "outputs": [
        {
          "output_type": "stream",
          "name": "stdout",
          "text": [
            "type of a:  <class 'int'>\n",
            "type of b:  <class 'float'>\n",
            "type of c:  <class 'complex'>\n"
          ]
        }
      ]
    },
    {
      "cell_type": "markdown",
      "source": [
        "4. What is an expression made up of? What do all expressions do?\n",
        "      A combination of operands and operators is called an expression. The expression in Python produces some value or result after being interpreted by the Python interpreter.\n",
        "      Operators\tSyntax\tFunctioning\n",
        "         +\t     x + y\t  Addition\n",
        "         –\t     x – y\t  Subtraction\n",
        "         *\t     x * y\t  Multiplication\n",
        "         /\t     x / y   \tDivision\n",
        "         //\t     x // y \tQuotient\n",
        "         %\t     x % y\t  Remainder\n",
        "         **\t     x ** y\t  Exponentiation\n",
        "Example:\n",
        "\n",
        "x =[15 + 1.3]  \n",
        "print(x)\n",
        "\n",
        "Output\n",
        "\n",
        "16.3\n",
        "\n",
        "Expression value = [16.3] is List"
      ],
      "metadata": {
        "id": "pERq3wkQUPz6"
      }
    },
    {
      "cell_type": "code",
      "source": [
        "x = [15 + 1.3]\n",
        "print(x)"
      ],
      "metadata": {
        "colab": {
          "base_uri": "https://localhost:8080/"
        },
        "id": "4jEl05GAnJqT",
        "outputId": "a58ecf25-a335-40f9-d862-01bb094e3458"
      },
      "execution_count": 7,
      "outputs": [
        {
          "output_type": "stream",
          "name": "stdout",
          "text": [
            "[16.3]\n"
          ]
        }
      ]
    },
    {
      "cell_type": "markdown",
      "source": [
        "5.This assignment statements, like spam = 10. What is the difference between an\n",
        "expression and a statement?\n",
        "\n",
        "Expression is a combination of variables, operations and values that yields a result value.\n",
        "\n",
        "5 * 5 # yields 25\n",
        "\n",
        "Statements represent an action or command e.g print statements, assignment statements.\n",
        "\n",
        "print 5*5"
      ],
      "metadata": {
        "id": "S22sJt3tY3l1"
      }
    },
    {
      "cell_type": "markdown",
      "source": [
        "6. After running the following code, what does the variable bacon contain?\n",
        "bacon = 22\n",
        "bacon + 1\n",
        "\n",
        "  The bacon variable is set to 22. The bacon + 1 expression does not reassign the value in bacon (that would need an assignment statement: bacon = bacon + 1)\n",
        "  bacon = 22\n",
        "\n",
        "  bacon+1     #22+1=23\n",
        "   \n",
        "  23"
      ],
      "metadata": {
        "id": "-QNawHhga1Hn"
      }
    },
    {
      "cell_type": "code",
      "source": [
        "bacon = 22\n",
        "bacon+1"
      ],
      "metadata": {
        "colab": {
          "base_uri": "https://localhost:8080/"
        },
        "id": "rNwkY0YMmwpv",
        "outputId": "afd3e3eb-9560-4ecc-c446-f8795370bd2d"
      },
      "execution_count": 6,
      "outputs": [
        {
          "output_type": "execute_result",
          "data": {
            "text/plain": [
              "23"
            ]
          },
          "metadata": {},
          "execution_count": 6
        }
      ]
    },
    {
      "cell_type": "markdown",
      "source": [
        "7. What should the values of the following two terms be?\n",
        "'spam'+'spamspam'\n",
        "'spam' * 3\n",
        "print('spam'+'spamspam')\n",
        "print('spam'*3)\n",
        "\n",
        "spamspamspam\n",
        "spamspamspam\n",
        "\n",
        "Both expressions evaluate to the string 'spamspamspam'\n"
      ],
      "metadata": {
        "id": "hFQpiyO1bfDa"
      }
    },
    {
      "cell_type": "code",
      "source": [
        "print('spam'+'spamspam')\n",
        "print('spam'*3)"
      ],
      "metadata": {
        "colab": {
          "base_uri": "https://localhost:8080/"
        },
        "id": "koDnmLo1k73t",
        "outputId": "4304257e-1ad3-481e-da3b-e185c7641f83"
      },
      "execution_count": 5,
      "outputs": [
        {
          "output_type": "stream",
          "name": "stdout",
          "text": [
            "spamspamspam\n",
            "spamspamspam\n"
          ]
        }
      ]
    },
    {
      "cell_type": "markdown",
      "source": [
        "8. Why is eggs a valid variable name while 100 is invalid?\n",
        "\n",
        "         Eggs is a valid variable name while 100 is invalid because variable names cannot begin with a number."
      ],
      "metadata": {
        "id": "PY6oHKxBccI3"
      }
    },
    {
      "cell_type": "markdown",
      "source": [
        "9. What three functions can be used to get the integer, floating-point number, or string\n",
        "version of a value?\n",
        "\n",
        "   The int(), float(), and str() functions will evaluate to the integer, floating-point number, and string versions of the value passed to them.\n",
        "\n",
        "A = 11\n",
        "print(type(A))\n",
        "B = 22.2\n",
        "print(type(B))\n",
        "C = \"11\"\n",
        "print(type(C))\n",
        "\n",
        "Output\n",
        "<class 'int'>\n",
        "<class 'float'>\n",
        "<class 'str'>"
      ],
      "metadata": {
        "id": "mDlhWLWDeyWN"
      }
    },
    {
      "cell_type": "code",
      "source": [
        "A = 11\n",
        "print(type(A))\n",
        "B = 22.2\n",
        "print(type(B))\n",
        "C = \"11\"\n",
        "print(type(C))\n"
      ],
      "metadata": {
        "colab": {
          "base_uri": "https://localhost:8080/"
        },
        "id": "PcrE4qN9kCw1",
        "outputId": "5df9ca32-f2c9-481f-9ff9-c1f35a54bffd"
      },
      "execution_count": 2,
      "outputs": [
        {
          "output_type": "stream",
          "name": "stdout",
          "text": [
            "<class 'int'>\n",
            "<class 'float'>\n",
            "<class 'str'>\n"
          ]
        }
      ]
    },
    {
      "cell_type": "markdown",
      "source": [
        "10. Why does this expression cause an error? How can you fix it?\n",
        "'I have eaten' + 99 + 'burritos'\n",
        "\n",
        "The expression causes an error because 99 is an integer, and only strings can be concatenated to other strings with the + operator. \n",
        "   The correct way is 'I have eaten ' + str(99) + ' burritos'"
      ],
      "metadata": {
        "id": "KD3V4YUagbaF"
      }
    },
    {
      "cell_type": "code",
      "source": [
        "print('I have eaten ' + str(99) + ' burritos')"
      ],
      "metadata": {
        "colab": {
          "base_uri": "https://localhost:8080/"
        },
        "id": "Xg6ieZCikITk",
        "outputId": "c3a6d3fa-acf5-470b-e269-af461243e5d2"
      },
      "execution_count": 3,
      "outputs": [
        {
          "output_type": "stream",
          "name": "stdout",
          "text": [
            "I have eaten 99 burritos\n"
          ]
        }
      ]
    }
  ]
}